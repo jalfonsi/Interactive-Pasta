{
 "cells": [
  {
   "cell_type": "markdown",
   "metadata": {},
   "source": [
    "## Conchiglie rigate\n",
    "\n",
    "#### * PINCHED LONGITUDINAL PROFILE\n",
    "#### * SEMI-OPEN CROSS-SECTION\n",
    "#### * STRIATED SURFACE\n",
    "#### * SMOOTH EDGES\n",
    "\n",
    "\n",
    "Shaped like their namesake which means *shells* in Italian, **conchiglie** exist in both *rigate* (grooved) and *lisce* (smooth) forms. Suited to light tomato sauces, ricotta cheese or *pesto alla genovese*, *conchiglie* hold flavourings in their grooves and cunningly designed shells. Smaller versions are used in soups, while larger shells are more commonly served with a sauce."
   ]
  },
  {
   "cell_type": "code",
   "execution_count": 1,
   "metadata": {},
   "outputs": [
    {
     "data": {
      "application/vnd.jupyter.widget-view+json": {
       "model_id": "b3349488703043099566660169b4de38",
       "version_major": 2,
       "version_minor": 0
      },
      "text/plain": [
       "VBox(children=(Figure(camera=PerspectiveCamera(fov=45.0, position=(0.0, 0.0, 2.0), projectionMatrix=(1.0, 0.0,…"
      ]
     },
     "metadata": {},
     "output_type": "display_data"
    }
   ],
   "source": [
    "# Initialization \n",
    "\n",
    "import ipyvolume as ipv\n",
    "import numpy as np\n",
    "from numpy import pi, sin, cos, sqrt \n",
    "\n",
    "i = np.arange(0, 41)\n",
    "j = np.arange(0, 251)\n",
    "U, V = np.meshgrid(i, j)\n",
    "\n",
    "# Conchiglie rigate\n",
    "\n",
    "def alpha(y):\n",
    "    return 0.25*sin(y/250*pi)*cos((6*y + 25)/25*pi)\n",
    "\n",
    "def beta(x, y):\n",
    "    return (40 - x)/40*(0.3 + sin(y*pi/250))*pi\n",
    "\n",
    "def gamma(x, y):\n",
    "    return 2.5*cos(y/125*pi) + 2*sin((40 - x)/80*pi)**10*sin(y/250*pi)**10*sin(y/125*pi + 1.5*pi)\n",
    "\n",
    "\n",
    "X = alpha(V) + cos(V/125*pi) + (5 + 30*sin(V/250*pi))*sin(beta(U, V))*sin(U/40*(0.1*(1.1 + sin(V/250*pi)**5))*pi)\n",
    "Y = alpha(V) + (5 + 30*sin(V/250*pi))*cos(beta(U, V))*sin(U/40*(0.1*(1.1 + sin(V/250*pi)**5))*pi) + gamma(U, V)\n",
    "Z = 25*cos(V/250*pi)\n",
    "\n",
    "\n",
    "# 3D surface plot\n",
    "ipv.figure()\n",
    "ipv.plot_surface(X, Z, Y, color=\"yellow\")\n",
    "ipv.show()"
   ]
  }
 ],
 "metadata": {
  "kernelspec": {
   "display_name": "Python 3",
   "language": "python",
   "name": "python3"
  },
  "language_info": {
   "codemirror_mode": {
    "name": "ipython",
    "version": 3
   },
   "file_extension": ".py",
   "mimetype": "text/x-python",
   "name": "python",
   "nbconvert_exporter": "python",
   "pygments_lexer": "ipython3",
   "version": "3.8.6"
  }
 },
 "nbformat": 4,
 "nbformat_minor": 4
}
